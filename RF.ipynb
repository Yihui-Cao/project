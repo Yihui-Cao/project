{
 "cells": [
  {
   "cell_type": "code",
   "execution_count": 1,
   "metadata": {},
   "outputs": [],
   "source": [
    "import pandas as pd\n",
    "from collections import Counter\n",
    "import numpy as np\n",
    "import ast\n",
    "import seaborn as sns\n",
    "from sklearn import metrics\n",
    "from sklearn.metrics import confusion_matrix, classification_report, roc_auc_score\n",
    "import matplotlib.pyplot as plt\n",
    "from sklearn.model_selection import train_test_split\n",
    "\n",
    "from pdpbox.pdp import pdp_isolate, pdp_plot\n",
    "from sklearn.metrics import accuracy_score\n",
    "\n",
    "%matplotlib inline"
   ]
  },
  {
   "cell_type": "code",
   "execution_count": 2,
   "metadata": {
    "scrolled": true
   },
   "outputs": [
    {
     "name": "stdout",
     "output_type": "stream",
     "text": [
      "(192609, 54)\n"
     ]
    }
   ],
   "source": [
    "businesses = pd.read_csv(\"restaurant.csv\", low_memory=False)\n",
    "print(businesses.shape)"
   ]
  },
  {
   "cell_type": "markdown",
   "metadata": {},
   "source": [
    "The columns that have been marked for removal must now be removed from the data"
   ]
  },
  {
   "cell_type": "code",
   "execution_count": 3,
   "metadata": {},
   "outputs": [
    {
     "data": {
      "text/html": [
       "<div>\n",
       "<style scoped>\n",
       "    .dataframe tbody tr th:only-of-type {\n",
       "        vertical-align: middle;\n",
       "    }\n",
       "\n",
       "    .dataframe tbody tr th {\n",
       "        vertical-align: top;\n",
       "    }\n",
       "\n",
       "    .dataframe thead th {\n",
       "        text-align: right;\n",
       "    }\n",
       "</style>\n",
       "<table border=\"1\" class=\"dataframe\">\n",
       "  <thead>\n",
       "    <tr style=\"text-align: right;\">\n",
       "      <th></th>\n",
       "      <th>Unnamed: 0</th>\n",
       "      <th>address</th>\n",
       "      <th>business_id</th>\n",
       "      <th>categories</th>\n",
       "      <th>city</th>\n",
       "      <th>hours</th>\n",
       "      <th>is_open</th>\n",
       "      <th>latitude</th>\n",
       "      <th>longitude</th>\n",
       "      <th>name</th>\n",
       "      <th>...</th>\n",
       "      <th>RestaurantsCounterService</th>\n",
       "      <th>RestaurantsDelivery</th>\n",
       "      <th>RestaurantsGoodForGroups</th>\n",
       "      <th>RestaurantsPriceRange2</th>\n",
       "      <th>RestaurantsReservations</th>\n",
       "      <th>RestaurantsTableService</th>\n",
       "      <th>RestaurantsTakeOut</th>\n",
       "      <th>Smoking</th>\n",
       "      <th>WheelchairAccessible</th>\n",
       "      <th>WiFi</th>\n",
       "    </tr>\n",
       "  </thead>\n",
       "  <tbody>\n",
       "    <tr>\n",
       "      <th>0</th>\n",
       "      <td>0</td>\n",
       "      <td>2818 E Camino Acequia Drive</td>\n",
       "      <td>1SWheh84yJXfytovILXOAQ</td>\n",
       "      <td>Golf, Active Life</td>\n",
       "      <td>Phoenix</td>\n",
       "      <td>NaN</td>\n",
       "      <td>0</td>\n",
       "      <td>33.522143</td>\n",
       "      <td>-112.018481</td>\n",
       "      <td>Arizona Biltmore Golf Club</td>\n",
       "      <td>...</td>\n",
       "      <td>NaN</td>\n",
       "      <td>NaN</td>\n",
       "      <td>NaN</td>\n",
       "      <td>NaN</td>\n",
       "      <td>NaN</td>\n",
       "      <td>NaN</td>\n",
       "      <td>NaN</td>\n",
       "      <td>NaN</td>\n",
       "      <td>NaN</td>\n",
       "      <td>NaN</td>\n",
       "    </tr>\n",
       "    <tr>\n",
       "      <th>1</th>\n",
       "      <td>1</td>\n",
       "      <td>30 Eglinton Avenue W</td>\n",
       "      <td>QXAEGFB4oINsVuTFxEYKFQ</td>\n",
       "      <td>Specialty Food, Restaurants, Dim Sum, Imported...</td>\n",
       "      <td>Mississauga</td>\n",
       "      <td>{'Monday': '9:0-0:0', 'Tuesday': '9:0-0:0', 'W...</td>\n",
       "      <td>1</td>\n",
       "      <td>43.605499</td>\n",
       "      <td>-79.652289</td>\n",
       "      <td>Emerald Chinese Restaurant</td>\n",
       "      <td>...</td>\n",
       "      <td>NaN</td>\n",
       "      <td>False</td>\n",
       "      <td>True</td>\n",
       "      <td>2</td>\n",
       "      <td>True</td>\n",
       "      <td>True</td>\n",
       "      <td>True</td>\n",
       "      <td>NaN</td>\n",
       "      <td>NaN</td>\n",
       "      <td>u'no'</td>\n",
       "    </tr>\n",
       "    <tr>\n",
       "      <th>2</th>\n",
       "      <td>2</td>\n",
       "      <td>10110 Johnston Rd, Ste 15</td>\n",
       "      <td>gnKjwL_1w79qoiV3IC_xQQ</td>\n",
       "      <td>Sushi Bars, Restaurants, Japanese</td>\n",
       "      <td>Charlotte</td>\n",
       "      <td>{'Monday': '17:30-21:30', 'Wednesday': '17:30-...</td>\n",
       "      <td>1</td>\n",
       "      <td>35.092564</td>\n",
       "      <td>-80.859132</td>\n",
       "      <td>Musashi Japanese Restaurant</td>\n",
       "      <td>...</td>\n",
       "      <td>NaN</td>\n",
       "      <td>False</td>\n",
       "      <td>True</td>\n",
       "      <td>2</td>\n",
       "      <td>True</td>\n",
       "      <td>True</td>\n",
       "      <td>True</td>\n",
       "      <td>NaN</td>\n",
       "      <td>NaN</td>\n",
       "      <td>u'no'</td>\n",
       "    </tr>\n",
       "    <tr>\n",
       "      <th>3</th>\n",
       "      <td>3</td>\n",
       "      <td>15655 W Roosevelt St, Ste 237</td>\n",
       "      <td>xvX2CttrVhyG2z1dFg_0xw</td>\n",
       "      <td>Insurance, Financial Services</td>\n",
       "      <td>Goodyear</td>\n",
       "      <td>{'Monday': '8:0-17:0', 'Tuesday': '8:0-17:0', ...</td>\n",
       "      <td>1</td>\n",
       "      <td>33.455613</td>\n",
       "      <td>-112.395596</td>\n",
       "      <td>Farmers Insurance - Paul Lorenz</td>\n",
       "      <td>...</td>\n",
       "      <td>NaN</td>\n",
       "      <td>NaN</td>\n",
       "      <td>NaN</td>\n",
       "      <td>NaN</td>\n",
       "      <td>NaN</td>\n",
       "      <td>NaN</td>\n",
       "      <td>NaN</td>\n",
       "      <td>NaN</td>\n",
       "      <td>NaN</td>\n",
       "      <td>NaN</td>\n",
       "    </tr>\n",
       "    <tr>\n",
       "      <th>4</th>\n",
       "      <td>4</td>\n",
       "      <td>4209 Stuart Andrew Blvd, Ste F</td>\n",
       "      <td>HhyxOkGAM07SRYtlQ4wMFQ</td>\n",
       "      <td>Plumbing, Shopping, Local Services, Home Servi...</td>\n",
       "      <td>Charlotte</td>\n",
       "      <td>{'Monday': '7:0-23:0', 'Tuesday': '7:0-23:0', ...</td>\n",
       "      <td>1</td>\n",
       "      <td>35.190012</td>\n",
       "      <td>-80.887223</td>\n",
       "      <td>Queen City Plumbing</td>\n",
       "      <td>...</td>\n",
       "      <td>NaN</td>\n",
       "      <td>NaN</td>\n",
       "      <td>NaN</td>\n",
       "      <td>NaN</td>\n",
       "      <td>NaN</td>\n",
       "      <td>NaN</td>\n",
       "      <td>NaN</td>\n",
       "      <td>NaN</td>\n",
       "      <td>NaN</td>\n",
       "      <td>NaN</td>\n",
       "    </tr>\n",
       "  </tbody>\n",
       "</table>\n",
       "<p>5 rows × 54 columns</p>\n",
       "</div>"
      ],
      "text/plain": [
       "   Unnamed: 0                         address             business_id  \\\n",
       "0           0     2818 E Camino Acequia Drive  1SWheh84yJXfytovILXOAQ   \n",
       "1           1            30 Eglinton Avenue W  QXAEGFB4oINsVuTFxEYKFQ   \n",
       "2           2       10110 Johnston Rd, Ste 15  gnKjwL_1w79qoiV3IC_xQQ   \n",
       "3           3   15655 W Roosevelt St, Ste 237  xvX2CttrVhyG2z1dFg_0xw   \n",
       "4           4  4209 Stuart Andrew Blvd, Ste F  HhyxOkGAM07SRYtlQ4wMFQ   \n",
       "\n",
       "                                          categories         city  \\\n",
       "0                                  Golf, Active Life      Phoenix   \n",
       "1  Specialty Food, Restaurants, Dim Sum, Imported...  Mississauga   \n",
       "2                  Sushi Bars, Restaurants, Japanese    Charlotte   \n",
       "3                      Insurance, Financial Services     Goodyear   \n",
       "4  Plumbing, Shopping, Local Services, Home Servi...    Charlotte   \n",
       "\n",
       "                                               hours  is_open   latitude  \\\n",
       "0                                                NaN        0  33.522143   \n",
       "1  {'Monday': '9:0-0:0', 'Tuesday': '9:0-0:0', 'W...        1  43.605499   \n",
       "2  {'Monday': '17:30-21:30', 'Wednesday': '17:30-...        1  35.092564   \n",
       "3  {'Monday': '8:0-17:0', 'Tuesday': '8:0-17:0', ...        1  33.455613   \n",
       "4  {'Monday': '7:0-23:0', 'Tuesday': '7:0-23:0', ...        1  35.190012   \n",
       "\n",
       "    longitude                             name  ... RestaurantsCounterService  \\\n",
       "0 -112.018481       Arizona Biltmore Golf Club  ...                       NaN   \n",
       "1  -79.652289       Emerald Chinese Restaurant  ...                       NaN   \n",
       "2  -80.859132      Musashi Japanese Restaurant  ...                       NaN   \n",
       "3 -112.395596  Farmers Insurance - Paul Lorenz  ...                       NaN   \n",
       "4  -80.887223              Queen City Plumbing  ...                       NaN   \n",
       "\n",
       "   RestaurantsDelivery  RestaurantsGoodForGroups RestaurantsPriceRange2  \\\n",
       "0                  NaN                       NaN                    NaN   \n",
       "1                False                      True                      2   \n",
       "2                False                      True                      2   \n",
       "3                  NaN                       NaN                    NaN   \n",
       "4                  NaN                       NaN                    NaN   \n",
       "\n",
       "   RestaurantsReservations RestaurantsTableService RestaurantsTakeOut Smoking  \\\n",
       "0                      NaN                     NaN                NaN     NaN   \n",
       "1                     True                    True               True     NaN   \n",
       "2                     True                    True               True     NaN   \n",
       "3                      NaN                     NaN                NaN     NaN   \n",
       "4                      NaN                     NaN                NaN     NaN   \n",
       "\n",
       "  WheelchairAccessible   WiFi  \n",
       "0                  NaN    NaN  \n",
       "1                  NaN  u'no'  \n",
       "2                  NaN  u'no'  \n",
       "3                  NaN    NaN  \n",
       "4                  NaN    NaN  \n",
       "\n",
       "[5 rows x 54 columns]"
      ]
     },
     "execution_count": 3,
     "metadata": {},
     "output_type": "execute_result"
    }
   ],
   "source": [
    "businesses.head()"
   ]
  },
  {
   "cell_type": "code",
   "execution_count": 4,
   "metadata": {},
   "outputs": [],
   "source": [
    "# only keep the columns you are interested.\n",
    "keeplist = ['is_open','latitude','longitude','review_count','stars','Alcohol','BikeParking','BusinessAcceptsCreditCards','OutdoorSeating','GoodForKids']\n",
    "df = businesses[keeplist].dropna()"
   ]
  },
  {
   "cell_type": "code",
   "execution_count": 5,
   "metadata": {},
   "outputs": [
    {
     "name": "stdout",
     "output_type": "stream",
     "text": [
      "<class 'pandas.core.frame.DataFrame'>\n",
      "Int64Index: 22970 entries, 2 to 192603\n",
      "Data columns (total 10 columns):\n",
      " #   Column                      Non-Null Count  Dtype  \n",
      "---  ------                      --------------  -----  \n",
      " 0   is_open                     22970 non-null  int64  \n",
      " 1   latitude                    22970 non-null  float64\n",
      " 2   longitude                   22970 non-null  float64\n",
      " 3   review_count                22970 non-null  int64  \n",
      " 4   stars                       22970 non-null  float64\n",
      " 5   Alcohol                     22970 non-null  object \n",
      " 6   BikeParking                 22970 non-null  object \n",
      " 7   BusinessAcceptsCreditCards  22970 non-null  object \n",
      " 8   OutdoorSeating              22970 non-null  object \n",
      " 9   GoodForKids                 22970 non-null  object \n",
      "dtypes: float64(3), int64(2), object(5)\n",
      "memory usage: 1.9+ MB\n",
      "None\n",
      "(22970, 10)\n"
     ]
    },
    {
     "data": {
      "text/html": [
       "<div>\n",
       "<style scoped>\n",
       "    .dataframe tbody tr th:only-of-type {\n",
       "        vertical-align: middle;\n",
       "    }\n",
       "\n",
       "    .dataframe tbody tr th {\n",
       "        vertical-align: top;\n",
       "    }\n",
       "\n",
       "    .dataframe thead th {\n",
       "        text-align: right;\n",
       "    }\n",
       "</style>\n",
       "<table border=\"1\" class=\"dataframe\">\n",
       "  <thead>\n",
       "    <tr style=\"text-align: right;\">\n",
       "      <th></th>\n",
       "      <th>is_open</th>\n",
       "      <th>latitude</th>\n",
       "      <th>longitude</th>\n",
       "      <th>review_count</th>\n",
       "      <th>stars</th>\n",
       "      <th>Alcohol</th>\n",
       "      <th>BikeParking</th>\n",
       "      <th>BusinessAcceptsCreditCards</th>\n",
       "      <th>OutdoorSeating</th>\n",
       "      <th>GoodForKids</th>\n",
       "    </tr>\n",
       "  </thead>\n",
       "  <tbody>\n",
       "    <tr>\n",
       "      <th>2</th>\n",
       "      <td>1</td>\n",
       "      <td>35.092564</td>\n",
       "      <td>-80.859132</td>\n",
       "      <td>170</td>\n",
       "      <td>4.0</td>\n",
       "      <td>u'beer_and_wine'</td>\n",
       "      <td>True</td>\n",
       "      <td>True</td>\n",
       "      <td>False</td>\n",
       "      <td>True</td>\n",
       "    </tr>\n",
       "    <tr>\n",
       "      <th>12</th>\n",
       "      <td>1</td>\n",
       "      <td>35.527410</td>\n",
       "      <td>-80.868003</td>\n",
       "      <td>9</td>\n",
       "      <td>3.5</td>\n",
       "      <td>'beer_and_wine'</td>\n",
       "      <td>True</td>\n",
       "      <td>True</td>\n",
       "      <td>True</td>\n",
       "      <td>False</td>\n",
       "    </tr>\n",
       "    <tr>\n",
       "      <th>13</th>\n",
       "      <td>1</td>\n",
       "      <td>41.708520</td>\n",
       "      <td>-81.359556</td>\n",
       "      <td>16</td>\n",
       "      <td>4.0</td>\n",
       "      <td>u'none'</td>\n",
       "      <td>True</td>\n",
       "      <td>True</td>\n",
       "      <td>False</td>\n",
       "      <td>True</td>\n",
       "    </tr>\n",
       "    <tr>\n",
       "      <th>22</th>\n",
       "      <td>1</td>\n",
       "      <td>36.080168</td>\n",
       "      <td>-115.182756</td>\n",
       "      <td>107</td>\n",
       "      <td>4.0</td>\n",
       "      <td>u'full_bar'</td>\n",
       "      <td>False</td>\n",
       "      <td>True</td>\n",
       "      <td>True</td>\n",
       "      <td>False</td>\n",
       "    </tr>\n",
       "    <tr>\n",
       "      <th>25</th>\n",
       "      <td>1</td>\n",
       "      <td>36.195615</td>\n",
       "      <td>-115.040529</td>\n",
       "      <td>184</td>\n",
       "      <td>4.5</td>\n",
       "      <td>u'beer_and_wine'</td>\n",
       "      <td>True</td>\n",
       "      <td>True</td>\n",
       "      <td>False</td>\n",
       "      <td>True</td>\n",
       "    </tr>\n",
       "    <tr>\n",
       "      <th>52</th>\n",
       "      <td>1</td>\n",
       "      <td>33.422164</td>\n",
       "      <td>-111.859035</td>\n",
       "      <td>64</td>\n",
       "      <td>2.5</td>\n",
       "      <td>u'full_bar'</td>\n",
       "      <td>True</td>\n",
       "      <td>True</td>\n",
       "      <td>False</td>\n",
       "      <td>False</td>\n",
       "    </tr>\n",
       "    <tr>\n",
       "      <th>58</th>\n",
       "      <td>0</td>\n",
       "      <td>35.172028</td>\n",
       "      <td>-80.746801</td>\n",
       "      <td>15</td>\n",
       "      <td>3.0</td>\n",
       "      <td>u'full_bar'</td>\n",
       "      <td>False</td>\n",
       "      <td>True</td>\n",
       "      <td>True</td>\n",
       "      <td>False</td>\n",
       "    </tr>\n",
       "    <tr>\n",
       "      <th>66</th>\n",
       "      <td>1</td>\n",
       "      <td>40.465694</td>\n",
       "      <td>-79.949324</td>\n",
       "      <td>242</td>\n",
       "      <td>4.5</td>\n",
       "      <td>u'full_bar'</td>\n",
       "      <td>True</td>\n",
       "      <td>True</td>\n",
       "      <td>False</td>\n",
       "      <td>False</td>\n",
       "    </tr>\n",
       "    <tr>\n",
       "      <th>73</th>\n",
       "      <td>1</td>\n",
       "      <td>40.441062</td>\n",
       "      <td>-80.002126</td>\n",
       "      <td>106</td>\n",
       "      <td>4.5</td>\n",
       "      <td>'none'</td>\n",
       "      <td>True</td>\n",
       "      <td>True</td>\n",
       "      <td>False</td>\n",
       "      <td>True</td>\n",
       "    </tr>\n",
       "    <tr>\n",
       "      <th>75</th>\n",
       "      <td>0</td>\n",
       "      <td>36.125031</td>\n",
       "      <td>-115.225620</td>\n",
       "      <td>33</td>\n",
       "      <td>2.0</td>\n",
       "      <td>u'none'</td>\n",
       "      <td>True</td>\n",
       "      <td>True</td>\n",
       "      <td>False</td>\n",
       "      <td>True</td>\n",
       "    </tr>\n",
       "    <tr>\n",
       "      <th>77</th>\n",
       "      <td>1</td>\n",
       "      <td>40.376674</td>\n",
       "      <td>-79.882480</td>\n",
       "      <td>5</td>\n",
       "      <td>3.0</td>\n",
       "      <td>u'full_bar'</td>\n",
       "      <td>True</td>\n",
       "      <td>True</td>\n",
       "      <td>False</td>\n",
       "      <td>False</td>\n",
       "    </tr>\n",
       "    <tr>\n",
       "      <th>78</th>\n",
       "      <td>1</td>\n",
       "      <td>33.613020</td>\n",
       "      <td>-111.977036</td>\n",
       "      <td>269</td>\n",
       "      <td>3.5</td>\n",
       "      <td>'beer_and_wine'</td>\n",
       "      <td>True</td>\n",
       "      <td>True</td>\n",
       "      <td>False</td>\n",
       "      <td>True</td>\n",
       "    </tr>\n",
       "    <tr>\n",
       "      <th>113</th>\n",
       "      <td>1</td>\n",
       "      <td>41.416588</td>\n",
       "      <td>-81.904370</td>\n",
       "      <td>8</td>\n",
       "      <td>4.0</td>\n",
       "      <td>u'full_bar'</td>\n",
       "      <td>False</td>\n",
       "      <td>True</td>\n",
       "      <td>True</td>\n",
       "      <td>True</td>\n",
       "    </tr>\n",
       "    <tr>\n",
       "      <th>120</th>\n",
       "      <td>1</td>\n",
       "      <td>41.261133</td>\n",
       "      <td>-81.503467</td>\n",
       "      <td>12</td>\n",
       "      <td>3.5</td>\n",
       "      <td>u'full_bar'</td>\n",
       "      <td>True</td>\n",
       "      <td>True</td>\n",
       "      <td>False</td>\n",
       "      <td>False</td>\n",
       "    </tr>\n",
       "    <tr>\n",
       "      <th>133</th>\n",
       "      <td>1</td>\n",
       "      <td>33.446806</td>\n",
       "      <td>-112.097129</td>\n",
       "      <td>14</td>\n",
       "      <td>3.0</td>\n",
       "      <td>'none'</td>\n",
       "      <td>True</td>\n",
       "      <td>True</td>\n",
       "      <td>True</td>\n",
       "      <td>False</td>\n",
       "    </tr>\n",
       "    <tr>\n",
       "      <th>135</th>\n",
       "      <td>0</td>\n",
       "      <td>36.143672</td>\n",
       "      <td>-115.169792</td>\n",
       "      <td>3</td>\n",
       "      <td>2.0</td>\n",
       "      <td>u'full_bar'</td>\n",
       "      <td>False</td>\n",
       "      <td>True</td>\n",
       "      <td>False</td>\n",
       "      <td>False</td>\n",
       "    </tr>\n",
       "    <tr>\n",
       "      <th>140</th>\n",
       "      <td>0</td>\n",
       "      <td>33.302093</td>\n",
       "      <td>-111.842613</td>\n",
       "      <td>320</td>\n",
       "      <td>4.0</td>\n",
       "      <td>u'full_bar'</td>\n",
       "      <td>True</td>\n",
       "      <td>True</td>\n",
       "      <td>True</td>\n",
       "      <td>False</td>\n",
       "    </tr>\n",
       "    <tr>\n",
       "      <th>141</th>\n",
       "      <td>1</td>\n",
       "      <td>35.364974</td>\n",
       "      <td>-80.708763</td>\n",
       "      <td>108</td>\n",
       "      <td>4.0</td>\n",
       "      <td>'beer_and_wine'</td>\n",
       "      <td>True</td>\n",
       "      <td>True</td>\n",
       "      <td>True</td>\n",
       "      <td>True</td>\n",
       "    </tr>\n",
       "    <tr>\n",
       "      <th>146</th>\n",
       "      <td>0</td>\n",
       "      <td>33.261325</td>\n",
       "      <td>-111.790815</td>\n",
       "      <td>84</td>\n",
       "      <td>4.0</td>\n",
       "      <td>u'none'</td>\n",
       "      <td>True</td>\n",
       "      <td>True</td>\n",
       "      <td>False</td>\n",
       "      <td>True</td>\n",
       "    </tr>\n",
       "    <tr>\n",
       "      <th>147</th>\n",
       "      <td>0</td>\n",
       "      <td>40.462345</td>\n",
       "      <td>-79.924165</td>\n",
       "      <td>29</td>\n",
       "      <td>4.5</td>\n",
       "      <td>u'none'</td>\n",
       "      <td>True</td>\n",
       "      <td>False</td>\n",
       "      <td>False</td>\n",
       "      <td>True</td>\n",
       "    </tr>\n",
       "    <tr>\n",
       "      <th>156</th>\n",
       "      <td>1</td>\n",
       "      <td>36.010745</td>\n",
       "      <td>-115.064803</td>\n",
       "      <td>664</td>\n",
       "      <td>4.5</td>\n",
       "      <td>u'beer_and_wine'</td>\n",
       "      <td>False</td>\n",
       "      <td>True</td>\n",
       "      <td>False</td>\n",
       "      <td>True</td>\n",
       "    </tr>\n",
       "    <tr>\n",
       "      <th>157</th>\n",
       "      <td>1</td>\n",
       "      <td>35.199798</td>\n",
       "      <td>-80.842295</td>\n",
       "      <td>380</td>\n",
       "      <td>4.0</td>\n",
       "      <td>u'beer_and_wine'</td>\n",
       "      <td>True</td>\n",
       "      <td>True</td>\n",
       "      <td>True</td>\n",
       "      <td>True</td>\n",
       "    </tr>\n",
       "    <tr>\n",
       "      <th>162</th>\n",
       "      <td>1</td>\n",
       "      <td>33.454286</td>\n",
       "      <td>-111.909405</td>\n",
       "      <td>526</td>\n",
       "      <td>3.5</td>\n",
       "      <td>'full_bar'</td>\n",
       "      <td>False</td>\n",
       "      <td>True</td>\n",
       "      <td>False</td>\n",
       "      <td>False</td>\n",
       "    </tr>\n",
       "    <tr>\n",
       "      <th>174</th>\n",
       "      <td>1</td>\n",
       "      <td>36.112527</td>\n",
       "      <td>-115.171351</td>\n",
       "      <td>535</td>\n",
       "      <td>3.5</td>\n",
       "      <td>'none'</td>\n",
       "      <td>False</td>\n",
       "      <td>True</td>\n",
       "      <td>False</td>\n",
       "      <td>True</td>\n",
       "    </tr>\n",
       "    <tr>\n",
       "      <th>176</th>\n",
       "      <td>1</td>\n",
       "      <td>36.142116</td>\n",
       "      <td>-115.174252</td>\n",
       "      <td>287</td>\n",
       "      <td>3.0</td>\n",
       "      <td>u'beer_and_wine'</td>\n",
       "      <td>True</td>\n",
       "      <td>True</td>\n",
       "      <td>False</td>\n",
       "      <td>True</td>\n",
       "    </tr>\n",
       "    <tr>\n",
       "      <th>178</th>\n",
       "      <td>0</td>\n",
       "      <td>35.257449</td>\n",
       "      <td>-81.111445</td>\n",
       "      <td>30</td>\n",
       "      <td>3.5</td>\n",
       "      <td>u'full_bar'</td>\n",
       "      <td>True</td>\n",
       "      <td>True</td>\n",
       "      <td>True</td>\n",
       "      <td>True</td>\n",
       "    </tr>\n",
       "    <tr>\n",
       "      <th>187</th>\n",
       "      <td>1</td>\n",
       "      <td>33.478754</td>\n",
       "      <td>-111.925484</td>\n",
       "      <td>188</td>\n",
       "      <td>3.0</td>\n",
       "      <td>u'none'</td>\n",
       "      <td>True</td>\n",
       "      <td>True</td>\n",
       "      <td>False</td>\n",
       "      <td>True</td>\n",
       "    </tr>\n",
       "    <tr>\n",
       "      <th>214</th>\n",
       "      <td>0</td>\n",
       "      <td>36.012764</td>\n",
       "      <td>-115.136056</td>\n",
       "      <td>77</td>\n",
       "      <td>4.0</td>\n",
       "      <td>u'none'</td>\n",
       "      <td>False</td>\n",
       "      <td>True</td>\n",
       "      <td>False</td>\n",
       "      <td>True</td>\n",
       "    </tr>\n",
       "    <tr>\n",
       "      <th>216</th>\n",
       "      <td>1</td>\n",
       "      <td>36.129040</td>\n",
       "      <td>-115.091294</td>\n",
       "      <td>27</td>\n",
       "      <td>4.0</td>\n",
       "      <td>u'full_bar'</td>\n",
       "      <td>True</td>\n",
       "      <td>True</td>\n",
       "      <td>False</td>\n",
       "      <td>False</td>\n",
       "    </tr>\n",
       "    <tr>\n",
       "      <th>217</th>\n",
       "      <td>1</td>\n",
       "      <td>35.500894</td>\n",
       "      <td>-80.854036</td>\n",
       "      <td>23</td>\n",
       "      <td>3.5</td>\n",
       "      <td>u'none'</td>\n",
       "      <td>True</td>\n",
       "      <td>True</td>\n",
       "      <td>True</td>\n",
       "      <td>True</td>\n",
       "    </tr>\n",
       "    <tr>\n",
       "      <th>240</th>\n",
       "      <td>1</td>\n",
       "      <td>36.116169</td>\n",
       "      <td>-115.241852</td>\n",
       "      <td>39</td>\n",
       "      <td>4.5</td>\n",
       "      <td>u'none'</td>\n",
       "      <td>True</td>\n",
       "      <td>True</td>\n",
       "      <td>True</td>\n",
       "      <td>True</td>\n",
       "    </tr>\n",
       "    <tr>\n",
       "      <th>243</th>\n",
       "      <td>1</td>\n",
       "      <td>41.673859</td>\n",
       "      <td>-81.322821</td>\n",
       "      <td>47</td>\n",
       "      <td>4.5</td>\n",
       "      <td>u'beer_and_wine'</td>\n",
       "      <td>True</td>\n",
       "      <td>True</td>\n",
       "      <td>False</td>\n",
       "      <td>True</td>\n",
       "    </tr>\n",
       "    <tr>\n",
       "      <th>251</th>\n",
       "      <td>1</td>\n",
       "      <td>40.463132</td>\n",
       "      <td>-79.951303</td>\n",
       "      <td>26</td>\n",
       "      <td>3.5</td>\n",
       "      <td>u'full_bar'</td>\n",
       "      <td>True</td>\n",
       "      <td>False</td>\n",
       "      <td>False</td>\n",
       "      <td>False</td>\n",
       "    </tr>\n",
       "    <tr>\n",
       "      <th>273</th>\n",
       "      <td>1</td>\n",
       "      <td>33.509510</td>\n",
       "      <td>-112.060238</td>\n",
       "      <td>563</td>\n",
       "      <td>3.5</td>\n",
       "      <td>u'full_bar'</td>\n",
       "      <td>True</td>\n",
       "      <td>True</td>\n",
       "      <td>True</td>\n",
       "      <td>True</td>\n",
       "    </tr>\n",
       "    <tr>\n",
       "      <th>288</th>\n",
       "      <td>0</td>\n",
       "      <td>36.129243</td>\n",
       "      <td>-115.165644</td>\n",
       "      <td>865</td>\n",
       "      <td>3.5</td>\n",
       "      <td>u'full_bar'</td>\n",
       "      <td>False</td>\n",
       "      <td>True</td>\n",
       "      <td>True</td>\n",
       "      <td>False</td>\n",
       "    </tr>\n",
       "    <tr>\n",
       "      <th>294</th>\n",
       "      <td>1</td>\n",
       "      <td>40.501556</td>\n",
       "      <td>-79.860629</td>\n",
       "      <td>7</td>\n",
       "      <td>2.5</td>\n",
       "      <td>u'full_bar'</td>\n",
       "      <td>True</td>\n",
       "      <td>True</td>\n",
       "      <td>True</td>\n",
       "      <td>False</td>\n",
       "    </tr>\n",
       "    <tr>\n",
       "      <th>298</th>\n",
       "      <td>1</td>\n",
       "      <td>33.378699</td>\n",
       "      <td>-112.031013</td>\n",
       "      <td>23</td>\n",
       "      <td>3.5</td>\n",
       "      <td>u'none'</td>\n",
       "      <td>True</td>\n",
       "      <td>True</td>\n",
       "      <td>False</td>\n",
       "      <td>True</td>\n",
       "    </tr>\n",
       "    <tr>\n",
       "      <th>300</th>\n",
       "      <td>0</td>\n",
       "      <td>36.233048</td>\n",
       "      <td>-115.246776</td>\n",
       "      <td>7</td>\n",
       "      <td>5.0</td>\n",
       "      <td>u'none'</td>\n",
       "      <td>False</td>\n",
       "      <td>True</td>\n",
       "      <td>False</td>\n",
       "      <td>True</td>\n",
       "    </tr>\n",
       "    <tr>\n",
       "      <th>302</th>\n",
       "      <td>1</td>\n",
       "      <td>33.479506</td>\n",
       "      <td>-112.046931</td>\n",
       "      <td>14</td>\n",
       "      <td>2.0</td>\n",
       "      <td>u'none'</td>\n",
       "      <td>True</td>\n",
       "      <td>True</td>\n",
       "      <td>False</td>\n",
       "      <td>True</td>\n",
       "    </tr>\n",
       "    <tr>\n",
       "      <th>315</th>\n",
       "      <td>0</td>\n",
       "      <td>40.421848</td>\n",
       "      <td>-79.661028</td>\n",
       "      <td>10</td>\n",
       "      <td>3.5</td>\n",
       "      <td>'full_bar'</td>\n",
       "      <td>False</td>\n",
       "      <td>True</td>\n",
       "      <td>True</td>\n",
       "      <td>False</td>\n",
       "    </tr>\n",
       "  </tbody>\n",
       "</table>\n",
       "</div>"
      ],
      "text/plain": [
       "     is_open   latitude   longitude  review_count  stars           Alcohol  \\\n",
       "2          1  35.092564  -80.859132           170    4.0  u'beer_and_wine'   \n",
       "12         1  35.527410  -80.868003             9    3.5   'beer_and_wine'   \n",
       "13         1  41.708520  -81.359556            16    4.0           u'none'   \n",
       "22         1  36.080168 -115.182756           107    4.0       u'full_bar'   \n",
       "25         1  36.195615 -115.040529           184    4.5  u'beer_and_wine'   \n",
       "52         1  33.422164 -111.859035            64    2.5       u'full_bar'   \n",
       "58         0  35.172028  -80.746801            15    3.0       u'full_bar'   \n",
       "66         1  40.465694  -79.949324           242    4.5       u'full_bar'   \n",
       "73         1  40.441062  -80.002126           106    4.5            'none'   \n",
       "75         0  36.125031 -115.225620            33    2.0           u'none'   \n",
       "77         1  40.376674  -79.882480             5    3.0       u'full_bar'   \n",
       "78         1  33.613020 -111.977036           269    3.5   'beer_and_wine'   \n",
       "113        1  41.416588  -81.904370             8    4.0       u'full_bar'   \n",
       "120        1  41.261133  -81.503467            12    3.5       u'full_bar'   \n",
       "133        1  33.446806 -112.097129            14    3.0            'none'   \n",
       "135        0  36.143672 -115.169792             3    2.0       u'full_bar'   \n",
       "140        0  33.302093 -111.842613           320    4.0       u'full_bar'   \n",
       "141        1  35.364974  -80.708763           108    4.0   'beer_and_wine'   \n",
       "146        0  33.261325 -111.790815            84    4.0           u'none'   \n",
       "147        0  40.462345  -79.924165            29    4.5           u'none'   \n",
       "156        1  36.010745 -115.064803           664    4.5  u'beer_and_wine'   \n",
       "157        1  35.199798  -80.842295           380    4.0  u'beer_and_wine'   \n",
       "162        1  33.454286 -111.909405           526    3.5        'full_bar'   \n",
       "174        1  36.112527 -115.171351           535    3.5            'none'   \n",
       "176        1  36.142116 -115.174252           287    3.0  u'beer_and_wine'   \n",
       "178        0  35.257449  -81.111445            30    3.5       u'full_bar'   \n",
       "187        1  33.478754 -111.925484           188    3.0           u'none'   \n",
       "214        0  36.012764 -115.136056            77    4.0           u'none'   \n",
       "216        1  36.129040 -115.091294            27    4.0       u'full_bar'   \n",
       "217        1  35.500894  -80.854036            23    3.5           u'none'   \n",
       "240        1  36.116169 -115.241852            39    4.5           u'none'   \n",
       "243        1  41.673859  -81.322821            47    4.5  u'beer_and_wine'   \n",
       "251        1  40.463132  -79.951303            26    3.5       u'full_bar'   \n",
       "273        1  33.509510 -112.060238           563    3.5       u'full_bar'   \n",
       "288        0  36.129243 -115.165644           865    3.5       u'full_bar'   \n",
       "294        1  40.501556  -79.860629             7    2.5       u'full_bar'   \n",
       "298        1  33.378699 -112.031013            23    3.5           u'none'   \n",
       "300        0  36.233048 -115.246776             7    5.0           u'none'   \n",
       "302        1  33.479506 -112.046931            14    2.0           u'none'   \n",
       "315        0  40.421848  -79.661028            10    3.5        'full_bar'   \n",
       "\n",
       "    BikeParking BusinessAcceptsCreditCards OutdoorSeating GoodForKids  \n",
       "2          True                       True          False        True  \n",
       "12         True                       True           True       False  \n",
       "13         True                       True          False        True  \n",
       "22        False                       True           True       False  \n",
       "25         True                       True          False        True  \n",
       "52         True                       True          False       False  \n",
       "58        False                       True           True       False  \n",
       "66         True                       True          False       False  \n",
       "73         True                       True          False        True  \n",
       "75         True                       True          False        True  \n",
       "77         True                       True          False       False  \n",
       "78         True                       True          False        True  \n",
       "113       False                       True           True        True  \n",
       "120        True                       True          False       False  \n",
       "133        True                       True           True       False  \n",
       "135       False                       True          False       False  \n",
       "140        True                       True           True       False  \n",
       "141        True                       True           True        True  \n",
       "146        True                       True          False        True  \n",
       "147        True                      False          False        True  \n",
       "156       False                       True          False        True  \n",
       "157        True                       True           True        True  \n",
       "162       False                       True          False       False  \n",
       "174       False                       True          False        True  \n",
       "176        True                       True          False        True  \n",
       "178        True                       True           True        True  \n",
       "187        True                       True          False        True  \n",
       "214       False                       True          False        True  \n",
       "216        True                       True          False       False  \n",
       "217        True                       True           True        True  \n",
       "240        True                       True           True        True  \n",
       "243        True                       True          False        True  \n",
       "251        True                      False          False       False  \n",
       "273        True                       True           True        True  \n",
       "288       False                       True           True       False  \n",
       "294        True                       True           True       False  \n",
       "298        True                       True          False        True  \n",
       "300       False                       True          False        True  \n",
       "302        True                       True          False        True  \n",
       "315       False                       True           True       False  "
      ]
     },
     "execution_count": 5,
     "metadata": {},
     "output_type": "execute_result"
    }
   ],
   "source": [
    "# print the information of the dataset\n",
    "print(df.info())\n",
    "\n",
    "# print # of rows, # of columns\n",
    "print(df.shape)\n",
    "\n",
    "# print the first five rows\n",
    "df.head(40)"
   ]
  },
  {
   "cell_type": "code",
   "execution_count": 6,
   "metadata": {},
   "outputs": [
    {
     "data": {
      "text/plain": [
       "u'none'             7626\n",
       "u'full_bar'         6788\n",
       "'none'              3475\n",
       "u'beer_and_wine'    2183\n",
       "'full_bar'          1873\n",
       "'beer_and_wine'     1006\n",
       "None                  19\n",
       "Name: Alcohol, dtype: int64"
      ]
     },
     "execution_count": 6,
     "metadata": {},
     "output_type": "execute_result"
    }
   ],
   "source": [
    "df['Alcohol'].value_counts()"
   ]
  },
  {
   "cell_type": "code",
   "execution_count": 7,
   "metadata": {},
   "outputs": [],
   "source": [
    "df.loc[df[\"Alcohol\"] == \"u'none'\", \"Alcohol\"] = 0 \n",
    "df.loc[df[\"Alcohol\"] == \"'none'\", \"Alcohol\"] = 0\n",
    "df.loc[df[\"Alcohol\"] == \"None\", \"Alcohol\"] = 0\n",
    "\n",
    "df.loc[df[\"Alcohol\"] == \"u'beer_and_wine'\", \"Alcohol\"] = 1\n",
    "df.loc[df[\"Alcohol\"] == \"'beer_and_wine'\", \"Alcohol\"] = 1\n",
    "\n",
    "df.loc[df[\"Alcohol\"] == \"u'full_bar'\", \"Alcohol\"] = 2\n",
    "df.loc[df[\"Alcohol\"] == \"'full_bar'\", \"Alcohol\"] = 2"
   ]
  },
  {
   "cell_type": "code",
   "execution_count": 8,
   "metadata": {},
   "outputs": [
    {
     "data": {
      "text/plain": [
       "0    11120\n",
       "2     8661\n",
       "1     3189\n",
       "Name: Alcohol, dtype: int64"
      ]
     },
     "execution_count": 8,
     "metadata": {},
     "output_type": "execute_result"
    }
   ],
   "source": [
    "df['Alcohol'] = df['Alcohol'].astype(int)\n",
    "df['Alcohol'].value_counts()"
   ]
  },
  {
   "cell_type": "markdown",
   "metadata": {},
   "source": [
    "### Clean up other columns"
   ]
  },
  {
   "cell_type": "code",
   "execution_count": 9,
   "metadata": {},
   "outputs": [
    {
     "name": "stdout",
     "output_type": "stream",
     "text": [
      "<class 'pandas.core.frame.DataFrame'>\n",
      "Int64Index: 22970 entries, 2 to 192603\n",
      "Data columns (total 10 columns):\n",
      " #   Column                      Non-Null Count  Dtype  \n",
      "---  ------                      --------------  -----  \n",
      " 0   is_open                     22970 non-null  int64  \n",
      " 1   latitude                    22970 non-null  float64\n",
      " 2   longitude                   22970 non-null  float64\n",
      " 3   review_count                22970 non-null  int64  \n",
      " 4   stars                       22970 non-null  float64\n",
      " 5   Alcohol                     22970 non-null  int64  \n",
      " 6   BikeParking                 22970 non-null  object \n",
      " 7   BusinessAcceptsCreditCards  22970 non-null  object \n",
      " 8   OutdoorSeating              22970 non-null  object \n",
      " 9   GoodForKids                 22970 non-null  object \n",
      "dtypes: float64(3), int64(3), object(4)\n",
      "memory usage: 1.9+ MB\n"
     ]
    }
   ],
   "source": [
    "df.info()"
   ]
  },
  {
   "cell_type": "code",
   "execution_count": 10,
   "metadata": {},
   "outputs": [
    {
     "data": {
      "text/plain": [
       "True     17501\n",
       "False     5447\n",
       "None        22\n",
       "Name: BikeParking, dtype: int64"
      ]
     },
     "execution_count": 10,
     "metadata": {},
     "output_type": "execute_result"
    }
   ],
   "source": [
    "# BikeParking\n",
    "df['BikeParking'].value_counts()"
   ]
  },
  {
   "cell_type": "code",
   "execution_count": 11,
   "metadata": {},
   "outputs": [
    {
     "data": {
      "text/plain": [
       "1    17501\n",
       "0     5469\n",
       "Name: BikeParking, dtype: int64"
      ]
     },
     "execution_count": 11,
     "metadata": {},
     "output_type": "execute_result"
    }
   ],
   "source": [
    "df.loc[df[\"BikeParking\"] == \"True\", \"BikeParking\"] = 1 \n",
    "df.loc[df[\"BikeParking\"] == \"False\", \"BikeParking\"] = 0\n",
    "df.loc[df[\"BikeParking\"] == \"None\", \"BikeParking\"] = 0\n",
    "\n",
    "df['BikeParking'] = df['BikeParking'].astype(int)\n",
    "df['BikeParking'].value_counts()"
   ]
  },
  {
   "cell_type": "code",
   "execution_count": 12,
   "metadata": {},
   "outputs": [
    {
     "data": {
      "text/plain": [
       "True     22489\n",
       "False      466\n",
       "None        15\n",
       "Name: BusinessAcceptsCreditCards, dtype: int64"
      ]
     },
     "execution_count": 12,
     "metadata": {},
     "output_type": "execute_result"
    }
   ],
   "source": [
    "# BusinessAcceptsCreditCards\n",
    "df['BusinessAcceptsCreditCards'].value_counts()"
   ]
  },
  {
   "cell_type": "code",
   "execution_count": 13,
   "metadata": {},
   "outputs": [
    {
     "data": {
      "text/plain": [
       "1    22489\n",
       "0      481\n",
       "Name: BusinessAcceptsCreditCards, dtype: int64"
      ]
     },
     "execution_count": 13,
     "metadata": {},
     "output_type": "execute_result"
    }
   ],
   "source": [
    "df.loc[df[\"BusinessAcceptsCreditCards\"] == \"True\", \"BusinessAcceptsCreditCards\"] = 1 \n",
    "df.loc[df[\"BusinessAcceptsCreditCards\"] == \"False\", \"BusinessAcceptsCreditCards\"] = 0\n",
    "df.loc[df[\"BusinessAcceptsCreditCards\"] == \"None\", \"BusinessAcceptsCreditCards\"] = 0\n",
    "\n",
    "df['BusinessAcceptsCreditCards'] = df['BusinessAcceptsCreditCards'].astype(int)\n",
    "df['BusinessAcceptsCreditCards'].value_counts()"
   ]
  },
  {
   "cell_type": "code",
   "execution_count": 14,
   "metadata": {},
   "outputs": [
    {
     "name": "stdout",
     "output_type": "stream",
     "text": [
      "True     19297\n",
      "False     3668\n",
      "None         5\n",
      "Name: GoodForKids, dtype: int64\n",
      "<class 'pandas.core.frame.DataFrame'>\n",
      "Int64Index: 22970 entries, 2 to 192603\n",
      "Data columns (total 10 columns):\n",
      " #   Column                      Non-Null Count  Dtype  \n",
      "---  ------                      --------------  -----  \n",
      " 0   is_open                     22970 non-null  int64  \n",
      " 1   latitude                    22970 non-null  float64\n",
      " 2   longitude                   22970 non-null  float64\n",
      " 3   review_count                22970 non-null  int64  \n",
      " 4   stars                       22970 non-null  float64\n",
      " 5   Alcohol                     22970 non-null  int64  \n",
      " 6   BikeParking                 22970 non-null  int64  \n",
      " 7   BusinessAcceptsCreditCards  22970 non-null  int64  \n",
      " 8   OutdoorSeating              22970 non-null  object \n",
      " 9   GoodForKids                 22970 non-null  int64  \n",
      "dtypes: float64(3), int64(6), object(1)\n",
      "memory usage: 1.9+ MB\n"
     ]
    }
   ],
   "source": [
    "print(df['GoodForKids'].value_counts())\n",
    "df.loc[df[\"GoodForKids\"] == \"True\", \"GoodForKids\"] = 1 \n",
    "df.loc[df[\"GoodForKids\"] == \"False\", \"GoodForKids\"] = 0\n",
    "df.loc[df[\"GoodForKids\"] == \"None\", \"GoodForKids\"] = 0\n",
    "\n",
    "df['GoodForKids'] = df['GoodForKids'].astype(int)\n",
    "df['GoodForKids'].value_counts()\n",
    "\n",
    "df.info()"
   ]
  },
  {
   "cell_type": "code",
   "execution_count": 15,
   "metadata": {},
   "outputs": [
    {
     "data": {
      "text/plain": [
       "False    12793\n",
       "True     10160\n",
       "None        17\n",
       "Name: OutdoorSeating, dtype: int64"
      ]
     },
     "execution_count": 15,
     "metadata": {},
     "output_type": "execute_result"
    }
   ],
   "source": [
    "df['OutdoorSeating'].value_counts()"
   ]
  },
  {
   "cell_type": "code",
   "execution_count": 16,
   "metadata": {},
   "outputs": [
    {
     "data": {
      "text/plain": [
       "0    12810\n",
       "1    10160\n",
       "Name: OutdoorSeating, dtype: int64"
      ]
     },
     "execution_count": 16,
     "metadata": {},
     "output_type": "execute_result"
    }
   ],
   "source": [
    "df.loc[df[\"OutdoorSeating\"] == \"True\", \"OutdoorSeating\"] = 1 \n",
    "df.loc[df[\"OutdoorSeating\"] == \"False\", \"OutdoorSeating\"] = 0\n",
    "df.loc[df[\"OutdoorSeating\"] == \"None\", \"OutdoorSeating\"] = 0\n",
    "\n",
    "df['OutdoorSeating'] = df['OutdoorSeating'].astype(int)\n",
    "df['OutdoorSeating'].value_counts()"
   ]
  },
  {
   "cell_type": "code",
   "execution_count": 17,
   "metadata": {},
   "outputs": [
    {
     "name": "stdout",
     "output_type": "stream",
     "text": [
      "<class 'pandas.core.frame.DataFrame'>\n",
      "Int64Index: 22970 entries, 2 to 192603\n",
      "Data columns (total 10 columns):\n",
      " #   Column                      Non-Null Count  Dtype  \n",
      "---  ------                      --------------  -----  \n",
      " 0   is_open                     22970 non-null  int64  \n",
      " 1   latitude                    22970 non-null  float64\n",
      " 2   longitude                   22970 non-null  float64\n",
      " 3   review_count                22970 non-null  int64  \n",
      " 4   stars                       22970 non-null  float64\n",
      " 5   Alcohol                     22970 non-null  int64  \n",
      " 6   BikeParking                 22970 non-null  int64  \n",
      " 7   BusinessAcceptsCreditCards  22970 non-null  int64  \n",
      " 8   OutdoorSeating              22970 non-null  int64  \n",
      " 9   GoodForKids                 22970 non-null  int64  \n",
      "dtypes: float64(3), int64(7)\n",
      "memory usage: 1.9 MB\n"
     ]
    }
   ],
   "source": [
    "df.info()"
   ]
  },
  {
   "cell_type": "markdown",
   "metadata": {},
   "source": [
    "## Predictive Restaurant’s Longevity (Classification)\n",
    "\n",
    "In this part, we will build up a classification model, in which 'is_open' is the dependent variable (y)."
   ]
  },
  {
   "cell_type": "code",
   "execution_count": 18,
   "metadata": {},
   "outputs": [],
   "source": [
    "# define the predictors\n",
    "x_columns = ['latitude','longitude','review_count','stars','Alcohol','BikeParking','BusinessAcceptsCreditCards','OutdoorSeating','GoodForKids']"
   ]
  },
  {
   "cell_type": "code",
   "execution_count": 19,
   "metadata": {},
   "outputs": [
    {
     "data": {
      "text/plain": [
       "1    0.811232\n",
       "0    0.188768\n",
       "Name: is_open, dtype: float64"
      ]
     },
     "execution_count": 19,
     "metadata": {},
     "output_type": "execute_result"
    },
    {
     "data": {
      "image/png": "[encoded data removed]",
      "text/plain": [
       "<Figure size 432x288 with 1 Axes>"
      ]
     },
     "metadata": {
      "needs_background": "light"
     },
     "output_type": "display_data"
    }
   ],
   "source": [
    "# Plot the distribution of the y variable\n",
    "sns.countplot(df.is_open, label=\"Count\")\n",
    "df['is_open'].value_counts(normalize=True)"
   ]
  },
  {
   "cell_type": "markdown",
   "metadata": {},
   "source": [
    "# SMOTE for Imbalanced Classification\n",
    "\n",
    "Imbalanced classification involves developing predictive models on classification datasets that have a severe class imbalance.\n",
    "\n",
    "The challenge of working with imbalanced datasets is that most machine learning techniques will ignore, and in turn have poor performance on, the minority class.\n",
    "\n",
    "One approach to addressing imbalanced datasets is to oversample the minority class. The simplest approach involves duplicating examples in the minority class, although these examples don’t add any new information to the model. Instead, new examples can be synthesized from the existing examples. This is a type of data augmentation for the minority class and is referred to as the Synthetic Minority Oversampling Technique, or SMOTE for short."
   ]
  },
  {
   "cell_type": "code",
   "execution_count": 20,
   "metadata": {},
   "outputs": [
    {
     "name": "stdout",
     "output_type": "stream",
     "text": [
      "SMOTE Counter({1: 18634, 0: 18634})\n"
     ]
    }
   ],
   "source": [
    "# SMOTE: Synthetic Minority Oversampling Technique (synthesize new examples from the minority class)\n",
    "from imblearn.over_sampling import (SMOTE)\n",
    "# sampler = SMOTE(sampling_strategy = 1)\n",
    "# X_rs, y_rs = sampler.fit_sample(df[x_columns], df['is_open'])\n",
    "\n",
    "oversample = SMOTE()\n",
    "X_rs, y_rs = oversample.fit_resample(df[x_columns], df['is_open'])\n",
    "\n",
    "print('SMOTE {}'.format(Counter(y_rs)))"
   ]
  },
  {
   "cell_type": "code",
   "execution_count": 21,
   "metadata": {},
   "outputs": [],
   "source": [
    "X = pd.DataFrame(X_rs, columns=x_columns)\n",
    "y = pd.DataFrame(y_rs, columns = ['is_open'])\n",
    "\n",
    "# combine the columns in X and y to form the new oversampled dataset\n",
    "df_new = pd.concat([X, y], axis=1)"
   ]
  },
  {
   "cell_type": "code",
   "execution_count": 22,
   "metadata": {},
   "outputs": [
    {
     "data": {
      "text/plain": [
       "is_open\n",
       "0          18634\n",
       "1          18634\n",
       "dtype: int64"
      ]
     },
     "execution_count": 22,
     "metadata": {},
     "output_type": "execute_result"
    }
   ],
   "source": [
    "# Plot the distribution of the y variable\n",
    "y.value_counts()"
   ]
  },
  {
   "cell_type": "code",
   "execution_count": 23,
   "metadata": {},
   "outputs": [
    {
     "data": {
      "text/plain": [
       "<matplotlib.axes._subplots.AxesSubplot at 0x7faeeb795070>"
      ]
     },
     "execution_count": 23,
     "metadata": {},
     "output_type": "execute_result"
    },
    {
     "data": {
      "image/png": "[encoded data removed]",
      "text/plain": [
       "<Figure size 432x288 with 1 Axes>"
      ]
     },
     "metadata": {
      "needs_background": "light"
     },
     "output_type": "display_data"
    }
   ],
   "source": [
    "sns.countplot(y.is_open, label=\"Count\")"
   ]
  },
  {
   "cell_type": "code",
   "execution_count": 24,
   "metadata": {},
   "outputs": [],
   "source": [
    "# split the dataset for cross validation\n",
    "\n",
    "X_train, X_test, y_train, y_test = train_test_split\\\n",
    "  (X, y, train_size = 0.6, random_state = 1)"
   ]
  },
  {
   "cell_type": "markdown",
   "metadata": {},
   "source": [
    "### Random Forest Models"
   ]
  },
  {
   "cell_type": "code",
   "execution_count": 25,
   "metadata": {},
   "outputs": [
    {
     "name": "stdout",
     "output_type": "stream",
     "text": [
      "Accuracy for 1 feature(s) equals 0.8190904212503354\n",
      "Accuracy for 2 feature(s) equals 0.8280118057418836\n",
      "Accuracy for 3 feature(s) equals 0.8346525355513819\n",
      "Accuracy for 4 feature(s) equals 0.8361953313657097\n",
      "Accuracy for 5 feature(s) equals 0.8367319559967803\n",
      "Accuracy for 6 feature(s) equals 0.8331097397370539\n",
      "Accuracy for 7 feature(s) equals 0.8316340220016099\n",
      "Accuracy for 8 feature(s) equals 0.8321035685537966\n",
      "Accuracy for 9 feature(s) equals 0.8302253823450496\n"
     ]
    }
   ],
   "source": [
    "#Create a list of random forest Classifier models and print out the accuracy score for each model\n",
    "from sklearn.ensemble import BaggingClassifier, RandomForestClassifier, BaggingRegressor, RandomForestRegressor\n",
    "\n",
    "# play around with the setting for max_features\n",
    "for i in range(1, 10):\n",
    "    rfc = RandomForestClassifier(max_features=i, random_state=1)\n",
    "    rfc.fit(X_train, y_train)\n",
    "    pred = rfc.predict(X_test)\n",
    "    print(\"Accuracy for %s feature(s) equals %s\" %(i, accuracy_score(y_test, pred)))"
   ]
  },
  {
   "cell_type": "code",
   "execution_count": 28,
   "metadata": {},
   "outputs": [
    {
     "data": {
      "text/plain": [
       "<matplotlib.axes._subplots.AxesSubplot at 0x7faeed116ac0>"
      ]
     },
     "execution_count": 28,
     "metadata": {},
     "output_type": "execute_result"
    },
    {
     "data": {
      "image/png": "[encoded data removed]",
      "text/plain": [
       "<Figure size 432x288 with 1 Axes>"
      ]
     },
     "metadata": {
      "needs_background": "light"
     },
     "output_type": "display_data"
    }
   ],
   "source": [
    "#identify the best random forest model and plot the features importance scores for the best random forest model\n",
    "#We can see that when the max_features is equal to 5, the accuracy is 0.8367319559967803\n",
    "rfc1 = RandomForestClassifier(max_features=5, random_state=1)\n",
    "rfc1.fit(X_train, y_train)\n",
    "feat_importances = pd.Series(rfc1.feature_importances_, index=X.columns)\n",
    "feat_importances.nlargest(5).plot(kind='barh')"
   ]
  },
  {
   "cell_type": "markdown",
   "metadata": {},
   "source": [
    "### PDPBox plots\n",
    "\n",
    "When using black box machine learning algorithms like random forest, it is hard to understand the relations between predictors and model outcome. We need some powerful tools to help understanding the complex relations between predictors and model prediction."
   ]
  },
  {
   "cell_type": "code",
   "execution_count": 30,
   "metadata": {},
   "outputs": [
    {
     "data": {
      "image/png": "[encoded data removed]",
      "text/plain": [
       "<Figure size 1080x684 with 3 Axes>"
      ]
     },
     "metadata": {
      "needs_background": "light"
     },
     "output_type": "display_data"
    }
   ],
   "source": [
    "# PDPBox for the impact of review counts on restaurants status\n",
    "\n",
    "pdp_review_count = pdp_isolate(model=rfc, dataset=df_new, model_features=x_columns,feature='review_count')\n",
    "fig, axes = pdp_plot(pdp_isolate_out=pdp_review_count,feature_name='review_count',plot_pts_dist=True)"
   ]
  },
  {
   "cell_type": "markdown",
   "metadata": {},
   "source": [
    "As shown in the plot above, the number of review counts has a positive impact on the likelihood of a restaurant being open. This positive impact is especially when the number of review counts is below 200."
   ]
  },
  {
   "cell_type": "code",
   "execution_count": 31,
   "metadata": {},
   "outputs": [],
   "source": [
    "#Use pdpbox plots to explain the impact of 'stars' and 'Alcohol' on 'is_open' separately.\n",
    "# Also, interpret the pdpbox plots."
   ]
  },
  {
   "cell_type": "code",
   "execution_count": 32,
   "metadata": {},
   "outputs": [
    {
     "data": {
      "image/png": "[encoded data removed]",
      "text/plain": [
       "<Figure size 1080x684 with 3 Axes>"
      ]
     },
     "metadata": {
      "needs_background": "light"
     },
     "output_type": "display_data"
    }
   ],
   "source": [
    "# PDPBox for the impact of stars on restaurants status\n",
    "pdp_stars = pdp_isolate(model=rfc, dataset=df_new, model_features=x_columns,feature='stars')\n",
    "fig, axes = pdp_plot(pdp_isolate_out=pdp_stars,feature_name='stars',plot_pts_dist=True)"
   ]
  },
  {
   "cell_type": "markdown",
   "metadata": {},
   "source": [
    "As shown in the plot above, the number of stars has a negative impact on the likelihood of a restaurant being open. This negative impact is especially when the number of starts is from 3.0 to 3.5, 4.0 to 4.5 ."
   ]
  },
  {
   "cell_type": "code",
   "execution_count": 33,
   "metadata": {},
   "outputs": [
    {
     "data": {
      "image/png": "[encoded data removed]",
      "text/plain": [
       "<Figure size 1080x684 with 3 Axes>"
      ]
     },
     "metadata": {
      "needs_background": "light"
     },
     "output_type": "display_data"
    }
   ],
   "source": [
    "# PDPBox for the impact of Alcohol on restaurants status\n",
    "\n",
    "pdp_alcohol = pdp_isolate(model=rfc, dataset=df_new, model_features=x_columns,feature='Alcohol')\n",
    "fig, axes = pdp_plot(pdp_isolate_out=pdp_alcohol,feature_name='Alcohol',plot_pts_dist=True)"
   ]
  },
  {
   "cell_type": "markdown",
   "metadata": {},
   "source": [
    "As shown in the plot above, the number of Alcohol has a negative impact on the likelihood of a restaurant being open. This negative impact is especially when the number of Alcohol is equal to 1(beer and wine)."
   ]
  },
  {
   "cell_type": "code",
   "execution_count": null,
   "metadata": {},
   "outputs": [],
   "source": []
  }
 ],
 "metadata": {
  "kernelspec": {
   "display_name": "Python 3 (ipykernel)",
   "language": "python",
   "name": "python3"
  },
  "language_info": {
   "codemirror_mode": {
    "name": "ipython",
    "version": 3
   },
   "file_extension": ".py",
   "mimetype": "text/x-python",
   "name": "python",
   "nbconvert_exporter": "python",
   "pygments_lexer": "ipython3",
   "version": "3.9.12"
  }
 },
 "nbformat": 4,
 "nbformat_minor": 2
}
